{
  "nbformat": 4,
  "nbformat_minor": 0,
  "metadata": {
    "colab": {
      "provenance": []
    },
    "kernelspec": {
      "name": "python3",
      "display_name": "Python 3"
    },
    "language_info": {
      "name": "python"
    }
  },
  "cells": [
    {
      "cell_type": "code",
      "execution_count": null,
      "metadata": {
        "id": "D6e8Ny2eFJER"
      },
      "outputs": [],
      "source": [
        "!wget https://mcauleylab.ucsd.edu/public_datasets/gdrive/googlelocal/review-Delaware_10.json.gz"
      ]
    },
    {
      "cell_type": "code",
      "source": [
        "!wget https://mcauleylab.ucsd.edu/public_datasets/gdrive/googlelocal/meta-Delaware.json.gz"
      ],
      "metadata": {
        "id": "Z5e_txduFmYG"
      },
      "execution_count": null,
      "outputs": []
    },
    {
      "cell_type": "code",
      "source": [
        "import gzip\n",
        "import json\n",
        "import pandas as pd\n",
        "import re # Thư viện regex để làm sạch text\n",
        "import itertools # Để đọc một phần của file lớn\n",
        "\n",
        "# Hàm parse để đọc file .json.gz\n",
        "def parse(path):\n",
        "  g = gzip.open(path, 'r')\n",
        "  for l in g:\n",
        "    yield json.loads(l)\n",
        "\n",
        "print(\"Các thư viện đã được import và hàm parse đã sẵn sàng.\")"
      ],
      "metadata": {
        "colab": {
          "base_uri": "https://localhost:8080/"
        },
        "id": "ur_S_0B3GMVg",
        "outputId": "2c98ee67-1579-4795-bf48-f454a5f3a896"
      },
      "execution_count": 5,
      "outputs": [
        {
          "output_type": "stream",
          "name": "stdout",
          "text": [
            "Các thư viện đã được import và hàm parse đã sẵn sàng.\n"
          ]
        }
      ]
    },
    {
      "cell_type": "code",
      "source": [
        "# --- Đọc file Review ---\n",
        "# Giới hạn số lượng review để load cho nhanh, bạn có thể tăng sau\n",
        "num_reviews_to_load = 100000\n",
        "reviews_data = list(itertools.islice(parse('review-Delaware_10.json.gz'), num_reviews_to_load))\n",
        "df_reviews_new = pd.DataFrame.from_records(reviews_data)\n",
        "\n",
        "# --- Đọc file Metadata ---\n",
        "metadata_data = list(parse('meta-Delaware.json.gz'))\n",
        "df_meta_new = pd.DataFrame.from_records(metadata_data)\n",
        "\n",
        "print(\"Đã đọc dữ liệu vào DataFrames thành công!\")\n",
        "print(f\"Số review đã tải: {len(df_reviews_new)}\")\n",
        "print(f\"Số địa điểm đã tải: {len(df_meta_new)}\")\n",
        "\n",
        "# Hiển thị 5 dòng đầu của mỗi DataFrame để kiểm tra\n",
        "print(\"\\n--- Dữ liệu Review (mẫu): ---\")\n",
        "print(df_reviews_new.head())\n",
        "\n",
        "print(\"\\n--- Dữ liệu Metadata (mẫu): ---\")\n",
        "print(df_meta_new.head())"
      ],
      "metadata": {
        "colab": {
          "base_uri": "https://localhost:8080/"
        },
        "id": "zpz21eRHGQk3",
        "outputId": "8f37f6aa-bd57-4e97-cfcf-b193e2100338"
      },
      "execution_count": 6,
      "outputs": [
        {
          "output_type": "stream",
          "name": "stdout",
          "text": [
            "Đã đọc dữ liệu vào DataFrames thành công!\n",
            "Số review đã tải: 100000\n",
            "Số địa điểm đã tải: 14706\n",
            "\n",
            "--- Dữ liệu Review (mẫu): ---\n",
            "                 user_id            name           time  rating  \\\n",
            "0  113797972931183350426  Heather Carper  1507258129698       5   \n",
            "1  108911577609871083315  STACY CLAVETTE  1544802238870       5   \n",
            "2  110147089361428367751       Zion Hood  1559123933643       5   \n",
            "3  114714285192292470942     Diane Clark  1600736020990       5   \n",
            "4  108986391413141739824         Eddie S  1554953350224       4   \n",
            "\n",
            "                                                text  \\\n",
            "0  Lived here for 3 years and enjoyed it. Locatio...   \n",
            "1  Nice complex and awesome staff.  Maintenance i...   \n",
            "2  Good places for people to live my friend lives...   \n",
            "3                                      great layout.   \n",
            "4  Positives: Elevator, dog park and maintenance....   \n",
            "\n",
            "                                                pics  resp  \\\n",
            "0  [{'url': ['https://lh5.googleusercontent.com/p...  None   \n",
            "1                                               None  None   \n",
            "2                                               None  None   \n",
            "3                                               None  None   \n",
            "4                                               None  None   \n",
            "\n",
            "                                gmap_id  \n",
            "0  0x89b8b77c34771c5f:0xf768433b3a39763  \n",
            "1  0x89b8b77c34771c5f:0xf768433b3a39763  \n",
            "2  0x89b8b77c34771c5f:0xf768433b3a39763  \n",
            "3  0x89b8b77c34771c5f:0xf768433b3a39763  \n",
            "4  0x89b8b77c34771c5f:0xf768433b3a39763  \n",
            "\n",
            "--- Dữ liệu Metadata (mẫu): ---\n",
            "                                          name  \\\n",
            "0                  Beach Plum Dunes Apartments   \n",
            "1                 Dempsey's Service Center Inc   \n",
            "2                         Eyeworks Vision Care   \n",
            "3                 American Chiropractic Center   \n",
            "4  Regional Medical Associates: Balu Ganesh MD   \n",
            "\n",
            "                                             address  \\\n",
            "0  Beach Plum Dunes Apartments, 36916 Crooked Ham...   \n",
            "1  Dempsey's Service Center Inc, 9 Mill Park Ct, ...   \n",
            "2  Eyeworks Vision Care, 210 Lantana Dr, Hockessi...   \n",
            "3  American Chiropractic Center, 1324 N King St, ...   \n",
            "4  Regional Medical Associates: Balu Ganesh MD, 2...   \n",
            "\n",
            "                                 gmap_id description   latitude  longitude  \\\n",
            "0   0x89b8b77c34771c5f:0xf768433b3a39763        None  38.745316 -75.149381   \n",
            "1  0x89c7aaafd9511449:0x6c168a2218e745da        None  39.685185 -75.699318   \n",
            "2  0x89c6ff8848b2bb41:0xe2d072c749a4cf8b        None  39.772793 -75.710116   \n",
            "3  0x89c6fd38d08c9aa3:0xd541b1a50e4d212c        None  39.748469 -75.544573   \n",
            "4  0x89c77ca685822e63:0xd3ab23a4294a0344        None  39.153244 -75.542849   \n",
            "\n",
            "                                            category  avg_rating  \\\n",
            "0                                [Apartment complex]         4.5   \n",
            "1  [Auto electrical service, Auto repair shop, Br...         4.3   \n",
            "2  [Optometrist, Eye care center, Optician, Sungl...         5.0   \n",
            "3                                     [Chiropractor]         5.0   \n",
            "4                                           [Doctor]         3.8   \n",
            "\n",
            "   num_of_reviews price                                              hours  \\\n",
            "0              25  None                                               None   \n",
            "1              19  None  [[Thursday, 7:30AM–6PM], [Friday, 7:30AM–6PM],...   \n",
            "2               8  None  [[Thursday, 9AM–5PM], [Friday, 8:30AM–5PM], [S...   \n",
            "3               1  None  [[Thursday, 9AM–5PM], [Friday, 9AM–5PM], [Satu...   \n",
            "4              18  None                                               None   \n",
            "\n",
            "                                                MISC                  state  \\\n",
            "0  {'Accessibility': ['Wheelchair accessible entr...                   None   \n",
            "1  {'Accessibility': ['Wheelchair accessible entr...  Closed ⋅ Opens 7:30AM   \n",
            "2  {'Accessibility': ['Wheelchair accessible entr...     Closed ⋅ Opens 9AM   \n",
            "3                                               None     Closed ⋅ Opens 9AM   \n",
            "4  {'Accessibility': ['Wheelchair accessible entr...                   None   \n",
            "\n",
            "                                    relative_results  \\\n",
            "0  [0x89b8c7f7fa362dcd:0xd2b52bfac98b528f, 0x89b8...   \n",
            "1  [0x89c7027ddb5231cb:0x8cfdfe5c5ace02a0, 0x89c7...   \n",
            "2  [0x89c7aa3c358031f9:0xc5471d0b58bb8769, 0x89c7...   \n",
            "3  [0x89c6fd69d0fa9327:0xeb5b1e8d33feb2f, 0x89c6f...   \n",
            "4  [0x89c76330d6a1f86d:0x88a00cf6eef5ad3f, 0x89c7...   \n",
            "\n",
            "                                                 url  \n",
            "0  https://www.google.com/maps/place//data=!4m2!3...  \n",
            "1  https://www.google.com/maps/place//data=!4m2!3...  \n",
            "2  https://www.google.com/maps/place//data=!4m2!3...  \n",
            "3  https://www.google.com/maps/place//data=!4m2!3...  \n",
            "4  https://www.google.com/maps/place//data=!4m2!3...  \n"
          ]
        }
      ]
    },
    {
      "cell_type": "code",
      "source": [
        "# --- Chuẩn hóa DataFrame Review ---\n",
        "# Chọn các cột hữu ích, bỏ bớt các cột không cần thiết như 'pics', 'resp'\n",
        "df_reviews_new = df_reviews_new[['gmap_id', 'user_id', 'name', 'time', 'rating', 'text']]\n",
        "# Đổi tên cột 'name' để tránh trùng với tên địa điểm trong metadata\n",
        "df_reviews_new.rename(columns={'name': 'user_name'}, inplace=True)\n",
        "\n",
        "# Xử lý các review rỗng (nếu có)\n",
        "df_reviews_new.dropna(subset=['text'], inplace=True)\n",
        "\n",
        "# --- Định nghĩa lại hàm clean_text từ Day 1 ---\n",
        "def clean_text(text):\n",
        "    if not isinstance(text, str):\n",
        "        return \"\"\n",
        "    text = text.lower()  # Chuyển chữ thường\n",
        "    text = re.sub(r'[^a-z\\s]', '', text) # Loại bỏ ký tự đặc biệt, số...\n",
        "    text = re.sub(r'\\s+', ' ', text).strip() # Loại bỏ khoảng trắng thừa\n",
        "    return text\n",
        "\n",
        "# Áp dụng hàm làm sạch\n",
        "df_reviews_new['text_clean'] = df_reviews_new['text'].apply(clean_text)\n",
        "\n",
        "print(\"Đã chuẩn hóa và làm sạch DataFrame Review.\")\n",
        "print(df_reviews_new[['text', 'text_clean']].head())\n",
        "\n",
        "# --- Chuẩn hóa DataFrame Metadata ---\n",
        "# Chọn các cột hữu ích cho bài toán\n",
        "df_meta_new = df_meta_new[['gmap_id', 'name', 'address', 'category', 'avg_rating', 'num_of_reviews', 'price']]\n",
        "# Đổi tên cột 'name' để dễ phân biệt\n",
        "df_meta_new.rename(columns={'name': 'place_name'}, inplace=True)\n",
        "\n",
        "print(\"\\nĐã chuẩn hóa DataFrame Metadata.\")\n",
        "print(df_meta_new.head())"
      ],
      "metadata": {
        "colab": {
          "base_uri": "https://localhost:8080/"
        },
        "id": "IuPD_ThvGU-e",
        "outputId": "9e1eed15-d513-4a33-bc16-3cb15ef14a42"
      },
      "execution_count": 7,
      "outputs": [
        {
          "output_type": "stream",
          "name": "stdout",
          "text": [
            "Đã chuẩn hóa và làm sạch DataFrame Review.\n",
            "                                                text  \\\n",
            "0  Lived here for 3 years and enjoyed it. Locatio...   \n",
            "1  Nice complex and awesome staff.  Maintenance i...   \n",
            "2  Good places for people to live my friend lives...   \n",
            "3                                      great layout.   \n",
            "4  Positives: Elevator, dog park and maintenance....   \n",
            "\n",
            "                                          text_clean  \n",
            "0  lived here for years and enjoyed it location t...  \n",
            "1  nice complex and awesome staff maintenance is ...  \n",
            "2  good places for people to live my friend lives...  \n",
            "3                                       great layout  \n",
            "4  positives elevator dog park and maintenance ne...  \n",
            "\n",
            "Đã chuẩn hóa DataFrame Metadata.\n",
            "                                 gmap_id  \\\n",
            "0   0x89b8b77c34771c5f:0xf768433b3a39763   \n",
            "1  0x89c7aaafd9511449:0x6c168a2218e745da   \n",
            "2  0x89c6ff8848b2bb41:0xe2d072c749a4cf8b   \n",
            "3  0x89c6fd38d08c9aa3:0xd541b1a50e4d212c   \n",
            "4  0x89c77ca685822e63:0xd3ab23a4294a0344   \n",
            "\n",
            "                                    place_name  \\\n",
            "0                  Beach Plum Dunes Apartments   \n",
            "1                 Dempsey's Service Center Inc   \n",
            "2                         Eyeworks Vision Care   \n",
            "3                 American Chiropractic Center   \n",
            "4  Regional Medical Associates: Balu Ganesh MD   \n",
            "\n",
            "                                             address  \\\n",
            "0  Beach Plum Dunes Apartments, 36916 Crooked Ham...   \n",
            "1  Dempsey's Service Center Inc, 9 Mill Park Ct, ...   \n",
            "2  Eyeworks Vision Care, 210 Lantana Dr, Hockessi...   \n",
            "3  American Chiropractic Center, 1324 N King St, ...   \n",
            "4  Regional Medical Associates: Balu Ganesh MD, 2...   \n",
            "\n",
            "                                            category  avg_rating  \\\n",
            "0                                [Apartment complex]         4.5   \n",
            "1  [Auto electrical service, Auto repair shop, Br...         4.3   \n",
            "2  [Optometrist, Eye care center, Optician, Sungl...         5.0   \n",
            "3                                     [Chiropractor]         5.0   \n",
            "4                                           [Doctor]         3.8   \n",
            "\n",
            "   num_of_reviews price  \n",
            "0              25  None  \n",
            "1              19  None  \n",
            "2               8  None  \n",
            "3               1  None  \n",
            "4              18  None  \n"
          ]
        }
      ]
    },
    {
      "cell_type": "code",
      "source": [
        "# Gộp hai DataFrame lại với nhau\n",
        "df_combined = pd.merge(df_reviews_new, df_meta_new, on='gmap_id', how='left')\n",
        "\n",
        "print(\"Gộp hai DataFrame thành công!\")\n",
        "print(f\"Số dòng trong DataFrame kết hợp: {len(df_combined)}\")\n",
        "print(\"Kiểm tra các cột mới được thêm vào:\")\n",
        "print(df_combined.head())"
      ],
      "metadata": {
        "colab": {
          "base_uri": "https://localhost:8080/"
        },
        "id": "ZdT3tYX9GaVv",
        "outputId": "45040e24-a7fd-481d-8e2e-c6d5c13f7765"
      },
      "execution_count": 8,
      "outputs": [
        {
          "output_type": "stream",
          "name": "stdout",
          "text": [
            "Gộp hai DataFrame thành công!\n",
            "Số dòng trong DataFrame kết hợp: 58289\n",
            "Kiểm tra các cột mới được thêm vào:\n",
            "                                gmap_id                user_id  \\\n",
            "0  0x89b8b77c34771c5f:0xf768433b3a39763  113797972931183350426   \n",
            "1  0x89b8b77c34771c5f:0xf768433b3a39763  113797972931183350426   \n",
            "2  0x89b8b77c34771c5f:0xf768433b3a39763  108911577609871083315   \n",
            "3  0x89b8b77c34771c5f:0xf768433b3a39763  108911577609871083315   \n",
            "4  0x89b8b77c34771c5f:0xf768433b3a39763  110147089361428367751   \n",
            "\n",
            "        user_name           time  rating  \\\n",
            "0  Heather Carper  1507258129698       5   \n",
            "1  Heather Carper  1507258129698       5   \n",
            "2  STACY CLAVETTE  1544802238870       5   \n",
            "3  STACY CLAVETTE  1544802238870       5   \n",
            "4       Zion Hood  1559123933643       5   \n",
            "\n",
            "                                                text  \\\n",
            "0  Lived here for 3 years and enjoyed it. Locatio...   \n",
            "1  Lived here for 3 years and enjoyed it. Locatio...   \n",
            "2  Nice complex and awesome staff.  Maintenance i...   \n",
            "3  Nice complex and awesome staff.  Maintenance i...   \n",
            "4  Good places for people to live my friend lives...   \n",
            "\n",
            "                                          text_clean  \\\n",
            "0  lived here for years and enjoyed it location t...   \n",
            "1  lived here for years and enjoyed it location t...   \n",
            "2  nice complex and awesome staff maintenance is ...   \n",
            "3  nice complex and awesome staff maintenance is ...   \n",
            "4  good places for people to live my friend lives...   \n",
            "\n",
            "                    place_name  \\\n",
            "0  Beach Plum Dunes Apartments   \n",
            "1  Beach Plum Dunes Apartments   \n",
            "2  Beach Plum Dunes Apartments   \n",
            "3  Beach Plum Dunes Apartments   \n",
            "4  Beach Plum Dunes Apartments   \n",
            "\n",
            "                                             address             category  \\\n",
            "0  Beach Plum Dunes Apartments, 36916 Crooked Ham...  [Apartment complex]   \n",
            "1  Beach Plum Dunes Apartments, 36916 Crooked Ham...  [Apartment complex]   \n",
            "2  Beach Plum Dunes Apartments, 36916 Crooked Ham...  [Apartment complex]   \n",
            "3  Beach Plum Dunes Apartments, 36916 Crooked Ham...  [Apartment complex]   \n",
            "4  Beach Plum Dunes Apartments, 36916 Crooked Ham...  [Apartment complex]   \n",
            "\n",
            "   avg_rating  num_of_reviews price  \n",
            "0         4.5              25  None  \n",
            "1         4.5              25  None  \n",
            "2         4.5              25  None  \n",
            "3         4.5              25  None  \n",
            "4         4.5              25  None  \n"
          ]
        }
      ]
    },
    {
      "cell_type": "code",
      "source": [
        "# Lưu DataFrame đã gộp thành file CSV\n",
        "output_filename = 'ucsd_delaware_reviews_combined.csv'\n",
        "df_combined.to_csv(output_filename, index=False)\n",
        "\n",
        "print(f\"\\nĐã lưu dữ liệu đã xử lý vào file '{output_filename}'.\")\n",
        "print(\"Bây giờ bạn đã sẵn sàng để chuyển sang Day 2 với bộ dữ liệu nâng cấp này!\")"
      ],
      "metadata": {
        "colab": {
          "base_uri": "https://localhost:8080/"
        },
        "id": "PBGHKvHvGp5x",
        "outputId": "2b8a1e0b-97f4-40c1-80cc-b570790daa38"
      },
      "execution_count": 9,
      "outputs": [
        {
          "output_type": "stream",
          "name": "stdout",
          "text": [
            "\n",
            "Đã lưu dữ liệu đã xử lý vào file 'ucsd_delaware_reviews_combined.csv'.\n",
            "Bây giờ bạn đã sẵn sàng để chuyển sang Day 2 với bộ dữ liệu nâng cấp này!\n"
          ]
        }
      ]
    }
  ]
}