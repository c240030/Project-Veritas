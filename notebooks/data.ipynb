{
 "cells": [
  {
   "cell_type": "code",
   "execution_count": 1,
   "id": "9b6784d1-dd73-4131-84b8-505591755ebe",
   "metadata": {},
   "outputs": [
    {
     "name": "stdout",
     "output_type": "stream",
     "text": [
      "--2025-08-28 17:10:09--  https://mcauleylab.ucsd.edu/public_datasets/gdrive/googlelocal/review-Delaware_10.json.gz\n",
      "Resolving mcauleylab.ucsd.edu (mcauleylab.ucsd.edu)... 169.228.63.88\n",
      "Connecting to mcauleylab.ucsd.edu (mcauleylab.ucsd.edu)|169.228.63.88|:443... connected.\n",
      "HTTP request sent, awaiting response... 200 OK\n",
      "Length: 58276682 (56M) [application/gzip]\n",
      "Saving to: ‘review-Delaware_10.json.gz’\n",
      "\n",
      "review-Delaware_10. 100%[===================>]  55.58M  3.86MB/s    in 18s     \n",
      "\n",
      "2025-08-28 17:10:28 (3.09 MB/s) - ‘review-Delaware_10.json.gz’ saved [58276682/58276682]\n",
      "\n"
     ]
    }
   ],
   "source": [
    "!wget https://mcauleylab.ucsd.edu/public_datasets/gdrive/googlelocal/review-Delaware_10.json.gz"
   ]
  },
  {
   "cell_type": "code",
   "execution_count": 2,
   "id": "a4e711e3-6cd1-40e0-8be1-44b8a62cd8d0",
   "metadata": {},
   "outputs": [
    {
     "name": "stdout",
     "output_type": "stream",
     "text": [
      "--2025-08-28 17:10:30--  https://mcauleylab.ucsd.edu/public_datasets/gdrive/googlelocal/meta-Delaware.json.gz\n",
      "Resolving mcauleylab.ucsd.edu (mcauleylab.ucsd.edu)... 169.228.63.88\n",
      "Connecting to mcauleylab.ucsd.edu (mcauleylab.ucsd.edu)|169.228.63.88|:443... connected.\n",
      "HTTP request sent, awaiting response... 200 OK\n",
      "Length: 3267552 (3.1M) [application/gzip]\n",
      "Saving to: ‘meta-Delaware.json.gz’\n",
      "\n",
      "meta-Delaware.json. 100%[===================>]   3.12M  1.76MB/s    in 1.8s    \n",
      "\n",
      "2025-08-28 17:10:32 (1.76 MB/s) - ‘meta-Delaware.json.gz’ saved [3267552/3267552]\n",
      "\n"
     ]
    }
   ],
   "source": [
    "!wget https://mcauleylab.ucsd.edu/public_datasets/gdrive/googlelocal/meta-Delaware.json.gz"
   ]
  },
  {
   "cell_type": "code",
   "execution_count": 1,
   "id": "fa969c79-3a96-4ef7-950a-a69cfed7c6f3",
   "metadata": {},
   "outputs": [],
   "source": [
    "import gzip\n",
    "import json\n",
    "import pandas as pd\n",
    "import re\n",
    "import itertools\n",
    "\n",
    "def parse(path):\n",
    "    g = gzip.open(path, \"r\")\n",
    "    for l in g:\n",
    "        yield json.loads(l)"
   ]
  },
  {
   "cell_type": "code",
   "execution_count": 4,
   "id": "c0ddd944-bfd8-48ad-9891-83c02510391c",
   "metadata": {},
   "outputs": [
    {
     "name": "stdout",
     "output_type": "stream",
     "text": [
      "Data size is 905537\n"
     ]
    }
   ],
   "source": [
    "num_reviews_to_load = 100000\n",
    "# reviews_data = list(itertools.islice(parse('review-Delaware_10.json.gz'), num_reviews_to_load))\n",
    "reviews_data = list(parse('review-Delaware_10.json.gz'))\n",
    "print(f\"Data size is {len(reviews_data)}\")\n",
    "df_reviews_new = pd.DataFrame.from_records(reviews_data)\n",
    "\n",
    "metadata_data = list(parse('meta-Delaware.json.gz'))\n",
    "df_meta_new = pd.DataFrame.from_records(metadata_data)"
   ]
  },
  {
   "cell_type": "code",
   "execution_count": 8,
   "id": "6df79df5-75b8-4abe-adb4-2f40b1e7e8b8",
   "metadata": {},
   "outputs": [],
   "source": [
    "df_reviews_new = df_reviews_new[['gmap_id', 'user_id', 'name', 'time', 'rating', 'text']]\n",
    "df_reviews_new.rename(columns={'name': 'user_name'}, inplace=True)\n",
    "\n",
    "df_reviews_new.dropna(subset=['text'], inplace=True)\n",
    "\n",
    "def clean_text(text):\n",
    "    if not isinstance(text, str):\n",
    "        return \"\"\n",
    "    text = text.lower() \n",
    "    text = re.sub(r'[^a-z\\s]', '', text) \n",
    "    text = re.sub(r'\\s+', ' ', text).strip()\n",
    "    return text\n",
    "\n",
    "df_reviews_new['text_clean'] = df_reviews_new['text'].apply(clean_text)\n",
    "\n",
    "df_meta_new = df_meta_new[['gmap_id', 'name', 'address', 'category', 'avg_rating', 'num_of_reviews', 'price']]\n",
    "\n",
    "df_meta_new.rename(columns={'name': 'place_name'}, inplace=True)"
   ]
  },
  {
   "cell_type": "code",
   "execution_count": 10,
   "id": "ef1700dc-c270-4548-a6c6-66e6d48e44ce",
   "metadata": {},
   "outputs": [],
   "source": [
    "df_combined = pd.merge(df_reviews_new, df_meta_new, on='gmap_id', how='left')\n",
    "\n",
    "output_filename = 'ucsd_delaware_reviews_combined.csv'\n",
    "df_combined.to_csv(output_filename, index=False)"
   ]
  },
  {
   "cell_type": "code",
   "execution_count": null,
   "id": "cad5e008-e73d-46fe-a055-2a6d0ccd0b30",
   "metadata": {},
   "outputs": [],
   "source": []
  }
 ],
 "metadata": {
  "kernelspec": {
   "display_name": "Python 3 (ipykernel)",
   "language": "python",
   "name": "python3"
  },
  "language_info": {
   "codemirror_mode": {
    "name": "ipython",
    "version": 3
   },
   "file_extension": ".py",
   "mimetype": "text/x-python",
   "name": "python",
   "nbconvert_exporter": "python",
   "pygments_lexer": "ipython3",
   "version": "3.12.3"
  }
 },
 "nbformat": 4,
 "nbformat_minor": 5
}
