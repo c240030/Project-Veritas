{
 "cells": [
  {
   "cell_type": "code",
   "execution_count": 1,
   "id": "a47f9dc2-c2c5-448b-86bf-b00bb8701bac",
   "metadata": {},
   "outputs": [
    {
     "name": "stdout",
     "output_type": "stream",
     "text": [
      "Requirement already satisfied: pandas in /home/quanganh/Project-Veritas/.venv/lib/python3.12/site-packages (2.3.2)\n",
      "Requirement already satisfied: nltk in /home/quanganh/Project-Veritas/.venv/lib/python3.12/site-packages (3.9.1)\n",
      "Requirement already satisfied: scikit-learn in /home/quanganh/Project-Veritas/.venv/lib/python3.12/site-packages (1.7.1)\n",
      "Requirement already satisfied: gensim in /home/quanganh/Project-Veritas/.venv/lib/python3.12/site-packages (4.3.3)\n",
      "Requirement already satisfied: openai in /home/quanganh/Project-Veritas/.venv/lib/python3.12/site-packages (1.102.0)\n",
      "Requirement already satisfied: numpy>=1.26.0 in /home/quanganh/Project-Veritas/.venv/lib/python3.12/site-packages (from pandas) (1.26.4)\n",
      "Requirement already satisfied: python-dateutil>=2.8.2 in /home/quanganh/Project-Veritas/.venv/lib/python3.12/site-packages (from pandas) (2.9.0.post0)\n",
      "Requirement already satisfied: pytz>=2020.1 in /home/quanganh/Project-Veritas/.venv/lib/python3.12/site-packages (from pandas) (2025.2)\n",
      "Requirement already satisfied: tzdata>=2022.7 in /home/quanganh/Project-Veritas/.venv/lib/python3.12/site-packages (from pandas) (2025.2)\n",
      "Requirement already satisfied: click in /home/quanganh/Project-Veritas/.venv/lib/python3.12/site-packages (from nltk) (8.2.1)\n",
      "Requirement already satisfied: joblib in /home/quanganh/Project-Veritas/.venv/lib/python3.12/site-packages (from nltk) (1.5.2)\n",
      "Requirement already satisfied: regex>=2021.8.3 in /home/quanganh/Project-Veritas/.venv/lib/python3.12/site-packages (from nltk) (2025.7.34)\n",
      "Requirement already satisfied: tqdm in /home/quanganh/Project-Veritas/.venv/lib/python3.12/site-packages (from nltk) (4.67.1)\n",
      "Requirement already satisfied: scipy>=1.8.0 in /home/quanganh/Project-Veritas/.venv/lib/python3.12/site-packages (from scikit-learn) (1.13.1)\n",
      "Requirement already satisfied: threadpoolctl>=3.1.0 in /home/quanganh/Project-Veritas/.venv/lib/python3.12/site-packages (from scikit-learn) (3.6.0)\n",
      "Requirement already satisfied: smart-open>=1.8.1 in /home/quanganh/Project-Veritas/.venv/lib/python3.12/site-packages (from gensim) (7.3.0.post1)\n",
      "Requirement already satisfied: anyio<5,>=3.5.0 in /home/quanganh/Project-Veritas/.venv/lib/python3.12/site-packages (from openai) (4.10.0)\n",
      "Requirement already satisfied: distro<2,>=1.7.0 in /home/quanganh/Project-Veritas/.venv/lib/python3.12/site-packages (from openai) (1.9.0)\n",
      "Requirement already satisfied: httpx<1,>=0.23.0 in /home/quanganh/Project-Veritas/.venv/lib/python3.12/site-packages (from openai) (0.28.1)\n",
      "Requirement already satisfied: jiter<1,>=0.4.0 in /home/quanganh/Project-Veritas/.venv/lib/python3.12/site-packages (from openai) (0.10.0)\n",
      "Requirement already satisfied: pydantic<3,>=1.9.0 in /home/quanganh/Project-Veritas/.venv/lib/python3.12/site-packages (from openai) (2.11.7)\n",
      "Requirement already satisfied: sniffio in /home/quanganh/Project-Veritas/.venv/lib/python3.12/site-packages (from openai) (1.3.1)\n",
      "Requirement already satisfied: typing-extensions<5,>=4.11 in /home/quanganh/Project-Veritas/.venv/lib/python3.12/site-packages (from openai) (4.15.0)\n",
      "Requirement already satisfied: idna>=2.8 in /home/quanganh/Project-Veritas/.venv/lib/python3.12/site-packages (from anyio<5,>=3.5.0->openai) (3.10)\n",
      "Requirement already satisfied: certifi in /home/quanganh/Project-Veritas/.venv/lib/python3.12/site-packages (from httpx<1,>=0.23.0->openai) (2025.8.3)\n",
      "Requirement already satisfied: httpcore==1.* in /home/quanganh/Project-Veritas/.venv/lib/python3.12/site-packages (from httpx<1,>=0.23.0->openai) (1.0.9)\n",
      "Requirement already satisfied: h11>=0.16 in /home/quanganh/Project-Veritas/.venv/lib/python3.12/site-packages (from httpcore==1.*->httpx<1,>=0.23.0->openai) (0.16.0)\n",
      "Requirement already satisfied: annotated-types>=0.6.0 in /home/quanganh/Project-Veritas/.venv/lib/python3.12/site-packages (from pydantic<3,>=1.9.0->openai) (0.7.0)\n",
      "Requirement already satisfied: pydantic-core==2.33.2 in /home/quanganh/Project-Veritas/.venv/lib/python3.12/site-packages (from pydantic<3,>=1.9.0->openai) (2.33.2)\n",
      "Requirement already satisfied: typing-inspection>=0.4.0 in /home/quanganh/Project-Veritas/.venv/lib/python3.12/site-packages (from pydantic<3,>=1.9.0->openai) (0.4.1)\n",
      "Requirement already satisfied: six>=1.5 in /home/quanganh/Project-Veritas/.venv/lib/python3.12/site-packages (from python-dateutil>=2.8.2->pandas) (1.17.0)\n",
      "Requirement already satisfied: wrapt in /home/quanganh/Project-Veritas/.venv/lib/python3.12/site-packages (from smart-open>=1.8.1->gensim) (1.17.3)\n"
     ]
    }
   ],
   "source": [
    "!pip install pandas nltk scikit-learn gensim openai"
   ]
  },
  {
   "cell_type": "code",
   "execution_count": 4,
   "id": "1b685328-1b0f-481a-a846-3b87e5113271",
   "metadata": {},
   "outputs": [
    {
     "name": "stderr",
     "output_type": "stream",
     "text": [
      "[nltk_data] Downloading package vader_lexicon to\n",
      "[nltk_data]     /home/quanganh/nltk_data...\n",
      "[nltk_data]   Package vader_lexicon is already up-to-date!\n"
     ]
    }
   ],
   "source": [
    "import pandas as pd\n",
    "import re\n",
    "import numpy as np\n",
    "import itertools\n",
    "from nltk.sentiment.vader import SentimentIntensityAnalyzer\n",
    "import nltk\n",
    "\n",
    "nltk.download('vader_lexicon')\n",
    "\n",
    "try:\n",
    "    df = pd.read_csv('ucsd_delaware_reviews_combined.csv')\n",
    "except FileNotFoundError as e:\n",
    "    print(str(e))\n"
   ]
  },
  {
   "cell_type": "code",
   "execution_count": 5,
   "id": "fb1a328b-a5d6-4129-b7ef-555abb36f95d",
   "metadata": {},
   "outputs": [],
   "source": [
    "analyzer = SentimentIntensityAnalyzer()\n",
    "df.dropna(subset=['text'], inplace=True)\n",
    "\n",
    "# sentiment score\n",
    "df['sentiment_score'] = df['text'].apply(lambda text: analyzer.polarity_scores(str(text))['compound'])\n",
    "\n",
    "# metadata\n",
    "df['review_length'] = df['text'].str.len()\n",
    "\n",
    "df['user_review_count'] = df.groupby('user_id')['user_id'].transform('count')\n",
    "df['rating_deviation'] = (df['rating'] - df['avg_rating']).fillna(0)\n",
    "\n",
    "visit_keywords = [\n",
    "    'visited', 'went to', 'ate here', 'dined here', 'was there',\n",
    "    'stayed at', 'my visit', 'our visit', 'ordered', 'tried the'\n",
    "]\n",
    "df['has_visit_keyword'] = df['text'].str.contains('|'.join(visit_keywords), case=False, na=False)"
   ]
  },
  {
   "cell_type": "code",
   "execution_count": 6,
   "id": "157f799a-3b6d-4a5d-aed8-049b7a358f07",
   "metadata": {},
   "outputs": [],
   "source": [
    "from sklearn.feature_extraction.text import TfidfVectorizer\n",
    "from gensim import corpora\n",
    "from gensim.models import LdaModel\n",
    "\n",
    "df['text_clean'] = df['text_clean'].fillna('')\n",
    "tfidf_vectorizer = TfidfVectorizer(max_features=2000, stop_words='english')\n",
    "tfidf_matrix = tfidf_vectorizer.fit_transform(df['text_clean'])\n",
    "feature_names = np.array(tfidf_vectorizer.get_feature_names_out())\n",
    "\n",
    "def extract_top_keywords(doc, top_n=5):\n",
    "    tfidf_vector = tfidf_vectorizer.transform([doc])\n",
    "    sorted_indices = np.argsort(tfidf_vector.toarray()).flatten()[::-1]\n",
    "    top_keywords = feature_names[sorted_indices[:top_n]]\n",
    "    return ', '.join(top_keywords)\n",
    "\n",
    "def get_dominant_topic(doc):\n",
    "    bow = dictionary.doc2bow(doc.split())\n",
    "    topics = lda_model.get_document_topics(bow, minimum_probability=0.0)\n",
    "    dominant_topic = sorted(topics, key=lambda x: x[1], reverse=True)[0][0]\n",
    "    return dominant_topic\n",
    "\n",
    "tokenized_data = [text.split() for text in df['text_clean']]\n",
    "dictionary = corpora.Dictionary(tokenized_data)\n",
    "dictionary.filter_extremes(no_below=5, no_above=0.5)\n",
    "corpus = [dictionary.doc2bow(text) for text in tokenized_data]\n",
    "lda_model = LdaModel(corpus=corpus, id2word=dictionary, num_topics=5, passes=10, random_state=42)\n",
    "\n",
    "df['topic'] = df['text_clean'].apply(get_dominant_topic)"
   ]
  },
  {
   "cell_type": "code",
   "execution_count": 7,
   "id": "83510914-0e38-464b-89ce-4b89a666dec5",
   "metadata": {},
   "outputs": [],
   "source": [
    "df['datetime'] = pd.to_datetime(df['time'], unit='ms')\n",
    "\n",
    "df = df.sort_values(by=['user_id', 'datetime'])\n",
    "df['time_delta_seconds'] = df.groupby('user_id')['datetime'].diff().dt.total_seconds().fillna(0)"
   ]
  },
  {
   "cell_type": "code",
   "execution_count": 8,
   "id": "34410658-df72-4324-a41d-443f9338d0da",
   "metadata": {},
   "outputs": [
    {
     "name": "stderr",
     "output_type": "stream",
     "text": [
      "/tmp/ipykernel_2094/1907951380.py:8: UserWarning: This pattern is interpreted as a regular expression, and has match groups. To actually get the groups, use str.extract.\n",
      "  df['has_url'] = df['text'].str.contains(url_pattern, case=False, na=False)\n"
     ]
    }
   ],
   "source": [
    "# advertisement\n",
    "promo_text_1 = \"Great place! visit www.mypromo.com for a 10% discount!\"\n",
    "df.loc[len(df)] = df.iloc[0]\n",
    "df.loc[df.index[-1], 'text'] = promo_text_1\n",
    "\n",
    "#url to external website\n",
    "url_pattern = r'(https|http|www)[^\\s]+'\n",
    "df['has_url'] = df['text'].str.contains(url_pattern, case=False, na=False)\n",
    "\n",
    "def create_multilabels(row):\n",
    "    labels = []\n",
    "    if row['sentiment_score'] < -0.5 and not row['has_visit_keyword']:\n",
    "        labels.append('rant_no_visit')\n",
    "    if row['has_url']:\n",
    "        labels.append('ad')\n",
    "    if row['topic'] == 1:\n",
    "        labels.append('irrelevant')\n",
    "    if not labels:\n",
    "        labels.append('clean')\n",
    "    return labels\n",
    "\n",
    "df['multilabels'] = df.apply(create_multilabels, axis=1)"
   ]
  },
  {
   "cell_type": "code",
   "execution_count": 9,
   "id": "49c5e648-1016-46b5-a476-f4640b9d6e94",
   "metadata": {},
   "outputs": [],
   "source": [
    "# model with scikit learn\n",
    "from sklearn.model_selection import train_test_split\n",
    "from sklearn.feature_extraction.text import TfidfVectorizer\n",
    "from sklearn.linear_model import LogisticRegression\n",
    "from sklearn.pipeline import Pipeline\n",
    "\n",
    "# Single Label\n",
    "def create_single_label(row):\n",
    "    if 'ad' in row['multilabels']: return 'ad'\n",
    "    if 'rant_no_visit' in row['multilabels']: return 'rant_no_visit'\n",
    "    if 'irrelevant' in row['multilabels']: return 'irrelevant'\n",
    "    return 'clean'\n",
    "\n",
    "df['final_label'] = df.apply(create_single_label, axis=1)\n",
    "\n",
    "\n",
    "X_train, X_test, y_train, y_test = train_test_split(\n",
    "    df['text_clean'], df['final_label'],\n",
    "    test_size=0.2, random_state=42, stratify=df['final_label']\n",
    ")\n",
    "\n",
    "pipeline = Pipeline([\n",
    "    ('tfidf', TfidfVectorizer(max_features=2000, stop_words='english')),\n",
    "    ('clf', LogisticRegression(max_iter=1000, class_weight='balanced'))\n",
    "])\n",
    "pipeline.fit(X_train, y_train)\n",
    "\n",
    "\n",
    "df['sklearn_classification'] = pipeline.predict(df['text_clean'])\n",
    "\n"
   ]
  },
  {
   "cell_type": "code",
   "execution_count": 10,
   "id": "06d02f58-eb90-4a27-83c5-f4609b8ad461",
   "metadata": {},
   "outputs": [
    {
     "name": "stdout",
     "output_type": "stream",
     "text": [
      "Accuracy of the model is 0.8103448275862069\n"
     ]
    }
   ],
   "source": [
    "# Evaluate sklearn model\n",
    "from sklearn.metrics import accuracy_score\n",
    "y_pred = pipeline.predict(X_test)\n",
    "accuracy = accuracy_score(y_pred, y_test)\n",
    "print(f\"Accuracy of the model is {accuracy}\")"
   ]
  },
  {
   "cell_type": "code",
   "execution_count": 15,
   "id": "c41349cb-b041-49ff-b024-30d62ad582d4",
   "metadata": {},
   "outputs": [
    {
     "name": "stdout",
     "output_type": "stream",
     "text": [
      "                                                    text   multilabels  \\\n",
      "25777  First time I tried their food will say it wasn...       [clean]   \n",
      "39737  I have been going here for years. All the staf...       [clean]   \n",
      "35036                                            Awesome       [clean]   \n",
      "1534                              Very helpful and nice.       [clean]   \n",
      "42774  A nice beach!  Fairly busy, arrive early to ge...  [irrelevant]   \n",
      "42827  A nice beach!  Fairly busy, arrive early to ge...  [irrelevant]   \n",
      "22297  Good food, better if you eat seafood.  Friendl...       [clean]   \n",
      "22299  Good food, better if you eat seafood.  Friendl...       [clean]   \n",
      "19157                 Food was good, staff was friendly.       [clean]   \n",
      "36516  Great place! visit www.mypromo.com for a 10% d...          [ad]   \n",
      "\n",
      "                                           openai_labels  \n",
      "25777  [error_Error code: 429 - {'error': {'message':...  \n",
      "39737  [error_Error code: 429 - {'error': {'message':...  \n",
      "35036  [error_Error code: 429 - {'error': {'message':...  \n",
      "1534   [error_Error code: 429 - {'error': {'message':...  \n",
      "42774  [error_Error code: 429 - {'error': {'message':...  \n",
      "42827  [error_Error code: 429 - {'error': {'message':...  \n",
      "22297  [error_Error code: 429 - {'error': {'message':...  \n",
      "22299  [error_Error code: 429 - {'error': {'message':...  \n",
      "19157  [error_Error code: 429 - {'error': {'message':...  \n",
      "36516  [error_Error code: 429 - {'error': {'message':...  \n"
     ]
    }
   ],
   "source": [
    "import openai\n",
    "import json\n",
    "import time\n",
    "import os\n",
    "from dotenv import load_dotenv\n",
    "\n",
    "load_dotenv()\n",
    "api_key = os.getenv(\"OPEN_API_KEY\")\n",
    "client = openai.OpenAI(api_key=api_key)\n",
    "\n",
    "def classify_review_with_openai(review_text, category):\n",
    "    system_prompt = \"\"\"\n",
    "    You are an AI assistant for Google Maps. Your task is to analyze a review and classify it based on quality policies.\n",
    "    A review can have one or more violation labels. If no violations are found, classify it as \"clean\".\n",
    "\n",
    "    Possible Labels:\n",
    "    - \"ad\": Contains advertisements, promotions, or external links.\n",
    "    - \"irrelevant\": The content is not related to the given category.\n",
    "    - \"rant_no_visit\": A strong complaint that shows no evidence of a real visit.\n",
    "\n",
    "    You must respond ONLY with a valid JSON object containing a single key \"labels\" which is a list of strings.\n",
    "    For example: {\"labels\": [\"clean\"]} or {\"labels\": [\"ad\", \"irrelevant\"]}.\n",
    "    \"\"\"\n",
    "\n",
    "    user_prompt = f\"\"\"\n",
    "    Please classify the following review for a place in the category \"{category}\".\n",
    "    Review Text: \"{review_text}\"\n",
    "    \"\"\"\n",
    "\n",
    "    try:\n",
    "        response = client.chat.completions.create(\n",
    "            # SỬA LỖI Ở ĐÂY: Thêm 'model='\n",
    "            model=\"gpt-3.5-turbo\",\n",
    "            messages=[\n",
    "                {\"role\": \"system\", \"content\": system_prompt},\n",
    "                {\"role\": \"user\", \"content\": user_prompt}\n",
    "            ],\n",
    "            response_format={\"type\": \"json_object\"},\n",
    "            temperature=0.1\n",
    "        )\n",
    "        return json.loads(response.choices[0].message.content)\n",
    "\n",
    "    except Exception as e:\n",
    "        return {\"labels\": [f\"error_{str(e)}\"]}\n",
    "\n",
    "sample_df_openai = df.tail(10).copy()\n",
    "\n",
    "openai_results = sample_df_openai.apply(\n",
    "    lambda row: classify_review_with_openai(row['text'], row['category']),\n",
    "    axis=1\n",
    ")\n",
    "\n",
    "sample_df_openai['openai_labels'] = [res.get('labels', ['error']) for res in openai_results]\n",
    "\n",
    "print(sample_df_openai[['text', 'multilabels', 'openai_labels']])"
   ]
  },
  {
   "cell_type": "code",
   "execution_count": null,
   "id": "49027d4a-0e79-4510-a696-085e227c12f6",
   "metadata": {},
   "outputs": [],
   "source": []
  }
 ],
 "metadata": {
  "kernelspec": {
   "display_name": "Python 3 (ipykernel)",
   "language": "python",
   "name": "python3"
  },
  "language_info": {
   "codemirror_mode": {
    "name": "ipython",
    "version": 3
   },
   "file_extension": ".py",
   "mimetype": "text/x-python",
   "name": "python",
   "nbconvert_exporter": "python",
   "pygments_lexer": "ipython3",
   "version": "3.12.3"
  }
 },
 "nbformat": 4,
 "nbformat_minor": 5
}
